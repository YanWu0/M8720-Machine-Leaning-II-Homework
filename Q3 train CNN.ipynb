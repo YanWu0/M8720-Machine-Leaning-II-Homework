{
 "cells": [
  {
   "cell_type": "markdown",
   "id": "dc355f8a-a56e-40b4-b36f-dffdaaceb445",
   "metadata": {},
   "source": [
    "# Q3 Please follow the PyTorch tutorial in the following link and train a simple feed-forward neural network.\n",
    "(https://pytorch.org/tutorials/beginner/blitz/neural_networks_tutorial.html)"
   ]
  },
  {
   "cell_type": "code",
   "execution_count": 1,
   "id": "1cbd01bb-3b4a-415e-9aa7-7a8687d0ab1f",
   "metadata": {},
   "outputs": [],
   "source": [
    "import torch\n",
    "import torch.nn as nn\n",
    "import torch.optim as optim\n",
    "import torch.nn.functional as F\n",
    "from torch.utils.data import DataLoader\n",
    "import torchvision.datasets as datasets\n",
    "import torchvision.transforms as transforms"
   ]
  },
  {
   "cell_type": "code",
   "execution_count": null,
   "id": "3af81316-969e-4960-80ac-fac5ceaf5e0d",
   "metadata": {},
   "outputs": [],
   "source": [
    "# the CNN structure\n",
    "\n",
    "# input layer: 1*32*32 image\n",
    "# conv1 layer: input_channel = 1, output_channel = 6, kernel_size = 5*5, stride = 1, padding = 0, parameter_name: C1 \n",
    "# output of conv1: 6*28*28\n",
    "# activation function: relu\n",
    "# MaxPool: filter_size = 2*2\n",
    "# output of MaxPool: 6*14*14\n",
    "# conv2 layer: input_channel = 6, output_channel = 16, kernel_size = 5*5, stride = 1, padding = 0, parameter_name:C2\n",
    "# output of conv2: 16*10*10\n",
    "# activation function: relu\n",
    "# MaxPool: filter_size = 2*2\n",
    "# output of MaxPool: 16*5*5\n",
    "# fc1 layer: num_nodes = 120, parameter_name = W1, b1, size_W1 = (16*5*5, 120), size_b1 = (120,1)\n",
    "# activation function: relu\n",
    "# fc2 layer: num_nodes = 82, paremeter_name = W2, b2, size_W2 = (120, 84), size_b2 = (84,1)\n",
    "# activation function: relu\n",
    "# fc3 layer: num_notes = 10, parameter_name = W3, b3, size_W3 = (84, 10), size_b3 = (10,1)\n"
   ]
  },
  {
   "cell_type": "markdown",
   "id": "5800c1eb-3ad3-4637-b038-1d2f9c086680",
   "metadata": {},
   "source": [
    "# create CNN structure"
   ]
  },
  {
   "cell_type": "code",
   "execution_count": 49,
   "id": "a74545cc-40c8-4a19-9091-ab8ab0dba237",
   "metadata": {},
   "outputs": [],
   "source": [
    "class CNN(nn.Module):\n",
    "\n",
    "    def __init__(self, in_channels = 1, num_classes = 10):\n",
    "        super(CNN, self).__init__()\n",
    "        self.conv1 = nn.Conv2d(in_channels = 1, out_channels = 6, kernel_size = (5,5), stride = (1,1), padding = (2,2))\n",
    "        self.pool = nn.MaxPool2d(kernel_size=(2,2), stride = (2,2))\n",
    "        self.conv2 = nn.Conv2d(in_channels = 6, out_channels = 16, kernel_size = (5,5), stride = (1,1), padding = (0,0))\n",
    "        self.fc1 = nn.Linear(16*5*5, 120, bias=True)\n",
    "        self.fc2 = nn.Linear(120, 84, bias=True)\n",
    "        self.fc3 = nn.Linear(84, 10, bias=True)\n",
    "\n",
    "    def forward(self, x):\n",
    "        x = self.pool(F.relu(self.conv1(x)))\n",
    "        x = self.pool(F.relu(self.conv2(x)))\n",
    "        x = x.reshape(x.shape[0], -1)\n",
    "        x = F.relu(self.fc1(x))\n",
    "        x = F.relu(self.fc2(x))\n",
    "        x = self.fc3(x)\n",
    "        return x"
   ]
  },
  {
   "cell_type": "code",
   "execution_count": 50,
   "id": "f6105514-db38-4281-964b-1389d432da19",
   "metadata": {},
   "outputs": [
    {
     "name": "stdout",
     "output_type": "stream",
     "text": [
      "torch.Size([64, 10])\n"
     ]
    }
   ],
   "source": [
    "model_test=CNN()\n",
    "x = torch.randn(64,1,28,28)\n",
    "print(model_test(x).shape)"
   ]
  },
  {
   "cell_type": "code",
   "execution_count": 51,
   "id": "0d53328e-0405-4251-a9cc-de5ac1a7927a",
   "metadata": {},
   "outputs": [
    {
     "name": "stdout",
     "output_type": "stream",
     "text": [
      "10\n",
      "torch.Size([6, 1, 5, 5])\n",
      "torch.Size([6])\n",
      "torch.Size([16, 6, 5, 5])\n",
      "torch.Size([16])\n",
      "torch.Size([120, 400])\n",
      "torch.Size([120])\n",
      "torch.Size([84, 120])\n",
      "torch.Size([84])\n",
      "torch.Size([10, 84])\n",
      "torch.Size([10])\n"
     ]
    }
   ],
   "source": [
    "params = list(model_test.parameters()) # recall that conv has bias parameter as well\n",
    "print(len(params))\n",
    "for i in range(len(params)):\n",
    "    print(params[i].size()) "
   ]
  },
  {
   "cell_type": "markdown",
   "id": "f70c6f79-799d-4007-b76d-80122ddce735",
   "metadata": {},
   "source": [
    "# set device"
   ]
  },
  {
   "cell_type": "code",
   "execution_count": 52,
   "id": "1b8fe111-f68d-4a38-9e73-a09365793491",
   "metadata": {},
   "outputs": [],
   "source": [
    "device = torch.device('cuda' if torch.cuda.is_available() else 'cpu')"
   ]
  },
  {
   "cell_type": "markdown",
   "id": "bc42b2ed-3145-4f4a-817f-52cdf9c541cf",
   "metadata": {},
   "source": [
    "# hyperparameters"
   ]
  },
  {
   "cell_type": "code",
   "execution_count": 53,
   "id": "9a49f2c9-4cd7-49a1-bf44-a04b60c1540f",
   "metadata": {},
   "outputs": [],
   "source": [
    "in_channels = 1\n",
    "num_classes = 10\n",
    "learning_rate = 0.001\n",
    "batch_size = 64\n",
    "num_epochs = 2"
   ]
  },
  {
   "cell_type": "markdown",
   "id": "1f1ec0ea-ac91-402e-b166-a6a9d79d6188",
   "metadata": {},
   "source": [
    "# load data"
   ]
  },
  {
   "cell_type": "code",
   "execution_count": 54,
   "id": "9a6fa125-5ebe-4d37-81d1-dfcf64956b21",
   "metadata": {},
   "outputs": [],
   "source": [
    "train_dataset = datasets.MNIST(root = 'dataset/', train=True, transform = transforms.ToTensor(), download = True)\n",
    "train_loader = DataLoader(dataset = train_dataset, batch_size = batch_size, shuffle = True)\n",
    "test_dataset = datasets.MNIST(root = 'dataset/', train=False, transform = transforms.ToTensor(), download = True)\n",
    "test_loader = DataLoader(dataset = test_dataset, batch_size = batch_size, shuffle = True)"
   ]
  },
  {
   "cell_type": "markdown",
   "id": "eb77f3fe-0772-434b-aad8-17725fa60b63",
   "metadata": {},
   "source": [
    "# initialized network"
   ]
  },
  {
   "cell_type": "code",
   "execution_count": 55,
   "id": "25f781f0-f30b-4621-8202-c0d78b0d2d62",
   "metadata": {},
   "outputs": [],
   "source": [
    "model = CNN().to(device)"
   ]
  },
  {
   "cell_type": "markdown",
   "id": "c9a51fb4-61e5-49ca-b386-4a413ffccb90",
   "metadata": {},
   "source": [
    "# loss and optimizer"
   ]
  },
  {
   "cell_type": "code",
   "execution_count": 56,
   "id": "9fcea34a-0c01-4002-854b-92c15c64f84e",
   "metadata": {},
   "outputs": [],
   "source": [
    "criterion = nn.CrossEntropyLoss()\n",
    "optimizer = optim.Adam(model.parameters(), lr = learning_rate)"
   ]
  },
  {
   "cell_type": "markdown",
   "id": "4fe8b15b-837c-4996-9d7d-123cfea650ef",
   "metadata": {},
   "source": [
    "# train network"
   ]
  },
  {
   "cell_type": "code",
   "execution_count": 57,
   "id": "09bf070a-eaf3-4e64-b7cf-4e38f87a6e62",
   "metadata": {},
   "outputs": [],
   "source": [
    "for epoch in range(num_epochs):\n",
    "    for batch_idx, (data, targets) in enumerate(train_loader):\n",
    "        data = data.to(device = device)\n",
    "        targets = targets.to(device = device)\n",
    "        scores = model(data)\n",
    "        loss = criterion(scores, targets)\n",
    "        optimizer.zero_grad()\n",
    "        loss.backward()\n",
    "        optimizer.step()\n",
    "        "
   ]
  },
  {
   "cell_type": "markdown",
   "id": "c2e025af-49d6-4853-a9c4-225f44f0c7ee",
   "metadata": {},
   "source": [
    "# check accuracy on training & testing to see how good our model does"
   ]
  },
  {
   "cell_type": "code",
   "execution_count": 58,
   "id": "38a2ccf9-595d-4ae8-b5d9-6d9d62db30b4",
   "metadata": {},
   "outputs": [],
   "source": [
    "def check_accuracy(loader, model):\n",
    "    if loader.dataset.train:\n",
    "        print('Checking accuracy on training data')\n",
    "    else:\n",
    "        print('Checking accuracy on testing data')\n",
    "\n",
    "    num_correct = 0\n",
    "    num_samples = 0\n",
    "    model.eval()\n",
    "\n",
    "    with torch.no_grad():\n",
    "        for x,y in loader:\n",
    "            x = x.to(device)\n",
    "            y = y.to(device)\n",
    "            scores = model(x)\n",
    "            _, predictions = scores.max(1)\n",
    "            num_correct += (predictions == y).sum()\n",
    "            num_samples += predictions.size(0)\n",
    "\n",
    "        print(f'Got {num_correct}/{num_samples} with accuracy {float(num_correct)/float(num_samples)*100:.2f}')\n",
    "\n",
    "    model.train()"
   ]
  },
  {
   "cell_type": "code",
   "execution_count": 59,
   "id": "4452f5fc-0378-4570-acf9-1dc76432a8a4",
   "metadata": {},
   "outputs": [
    {
     "name": "stdout",
     "output_type": "stream",
     "text": [
      "Checking accuracy on training data\n",
      "Got 58832/60000 with accuracy 98.05\n",
      "Checking accuracy on testing data\n",
      "Got 9815/10000 with accuracy 98.15\n"
     ]
    }
   ],
   "source": [
    "check_accuracy(train_loader, model)\n",
    "check_accuracy(test_loader, model)"
   ]
  },
  {
   "cell_type": "code",
   "execution_count": null,
   "id": "54e4fd7f-9230-43a4-9177-a272138c6f19",
   "metadata": {},
   "outputs": [],
   "source": []
  }
 ],
 "metadata": {
  "kernelspec": {
   "display_name": "Python 3 (ipykernel)",
   "language": "python",
   "name": "python3"
  },
  "language_info": {
   "codemirror_mode": {
    "name": "ipython",
    "version": 3
   },
   "file_extension": ".py",
   "mimetype": "text/x-python",
   "name": "python",
   "nbconvert_exporter": "python",
   "pygments_lexer": "ipython3",
   "version": "3.10.13"
  }
 },
 "nbformat": 4,
 "nbformat_minor": 5
}
