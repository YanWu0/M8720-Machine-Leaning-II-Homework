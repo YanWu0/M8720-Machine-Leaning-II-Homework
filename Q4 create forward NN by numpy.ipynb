{
 "cells": [
  {
   "cell_type": "markdown",
   "id": "69536325-f0cf-4dc1-b0d7-e975b1496066",
   "metadata": {},
   "source": [
    "# Question 4: Without using PyTorch, please use NumPy to replicate the simple feed-forward CNN in question 3 (https://pytorch.org/tutorials/beginner/blitz/neural_networks_tutorial.html)."
   ]
  },
  {
   "cell_type": "code",
   "id": "b1d99a38-ee50-48f2-aa28-c789b6c7c1a2",
   "metadata": {},
   "source": [
    "# the NN structure\n",
    "\n",
    "# input layer: 1*32*32 image\n",
    "# conv1 layer: input_channel = 1, output_channel = 6, kernel_size = 5*5, stride = 1, padding = 0, parameter_name: C1 \n",
    "# output of conv1: 6*28*28\n",
    "# activation function: relu\n",
    "# MaxPool: filter_size = 2*2\n",
    "# output of MaxPool: 6*14*14\n",
    "# conv2 layer: input_channel = 6, output_channel = 16, kernel_size = 5*5, stride = 1, padding = 0, parameter_name:C2\n",
    "# output of conv2: 16*10*10\n",
    "# activation function: relu\n",
    "# MaxPool: filter_size = 2*2\n",
    "# output of MaxPool: 16*5*5\n",
    "# fc1 layer: num_nodes = 120, parameter_name = W1, b1, size_W1 = (16*5*5, 120), size_b1 = (120,1)\n",
    "# activation function: relu\n",
    "# fc2 layer: num_nodes = 82, paremeter_name = W2, b2, size_W2 = (120, 84), size_b2 = (84,1)\n",
    "# activation function: relu\n",
    "# fc3 layer: num_notes = 10, parameter_name = W3, b3, size_W3 = (84, 10), size_b3 = (10,1)"
   ]
  },
  {
   "cell_type": "code",
   "execution_count": 208,
   "id": "15460bc2-cacd-4473-82b8-59bb5af2f16e",
   "metadata": {},
   "outputs": [],
   "source": [
    "import numpy as np"
   ]
  },
  {
   "cell_type": "code",
   "execution_count": 209,
   "id": "5f963fe7-2026-4f70-83e7-2a590c8aec77",
   "metadata": {},
   "outputs": [],
   "source": [
    "def init_parameters_and_input():\n",
    "    input = np.random.rand(1,32,32)\n",
    "    C1 = np.random.rand(6, 1, 5, 5) - 0.5\n",
    "    C2 = np.random.rand(16, 6, 5, 5) -0.5\n",
    "    W1 = np.random.rand(120, 5*5*16) -0.5\n",
    "    b1 = np.random.rand(120, 1) -0.5\n",
    "    W2 = np.random.rand(84, 120) -0.5\n",
    "    b2 = np.random.rand(84, 1) -0.5\n",
    "    W3 = np.random.rand(10, 84) -0.5\n",
    "    b3 = np.random.rand(10,1) -0.5\n",
    "    \n",
    "    return input, C1, C2, W1, b1, W2, b2, W3, b3\n",
    "    \n",
    "\n",
    "def convlayer(input, filter):\n",
    "    in_channel, input_r, input_c = input.shape\n",
    "    out_channel, _, filter_r, filter_c = filter.shape  # _ = in_channel\n",
    "    output = np.empty((out_channel, input_r-filter_r+1, input_c-filter_c+1))\n",
    "    \n",
    "    for out_channel_idx in range(out_channel):\n",
    "        for r_idx in range(input_r-filter_r+1):\n",
    "            for c_idx in range(input_c-filter_c+1):\n",
    "                output[out_channel_idx, r_idx, c_idx] = sum(sum(sum(np.multiply(filter[out_channel_idx], input[:, r_idx:r_idx+filter_r, c_idx:c_idx+filter_c]))))\n",
    "    return output\n",
    "\n",
    "\n",
    "def maxpool(input):\n",
    "    num_channel, input_r, input_c = input.shape\n",
    "    output = np.empty((num_channel, int(input_r/2), int(input_c/2)))\n",
    "    \n",
    "    for out_channel_idx in range(num_channel):\n",
    "        for r_idx in range(int(input_r/2)):\n",
    "            for c_idx in range(int(input_c/2)):\n",
    "                output[out_channel_idx, r_idx, c_idx] = np.max(input[out_channel_idx, r_idx*2:r_idx*2+2, c_idx*2:c_idx*2+2])\n",
    "    return output\n",
    "    \n",
    "\n",
    "def relu(input):\n",
    "    output = np.maximum(input,0)\n",
    "    return output\n",
    "    \n",
    "\n",
    "def to_vector(input):\n",
    "    output = input.reshape(-1,1)\n",
    "    return output\n",
    "    \n",
    "\n",
    "def fully_connected_layer(input, W, b):\n",
    "    output = np.dot(W, input) + b\n",
    "    return output    \n",
    "    "
   ]
  },
  {
   "cell_type": "code",
   "execution_count": 210,
   "id": "72b786bf-7800-419d-9d00-3403479e117d",
   "metadata": {},
   "outputs": [],
   "source": [
    "def forward():\n",
    "    \n",
    "    # init input image and parameters\n",
    "    input,C1,C2,W1,b1,W2,b2,W3,b3=init_parameters_and_input()\n",
    "\n",
    "    # Conv1\n",
    "    input = convlayer(input, C1)\n",
    "    input = relu(input)\n",
    "    input = maxpool(input)\n",
    "\n",
    "    # Conv2\n",
    "    input = convlayer(input, C2)\n",
    "    input = relu(input)\n",
    "    input = maxpool(input)\n",
    "\n",
    "    # reshape input high dimensional array to column vector\n",
    "    input = to_vector(input)\n",
    "\n",
    "    # fc1\n",
    "    input = fully_connected_layer(input, W1, b1)\n",
    "    input = relu(input)\n",
    "    \n",
    "    # fc2\n",
    "    input = fully_connected_layer(input, W2, b2)\n",
    "    input = relu(input)\n",
    "\n",
    "    # fc3\n",
    "    output = fully_connected_layer(input, W3, b3)\n",
    "\n",
    "    return output\n"
   ]
  },
  {
   "cell_type": "code",
   "execution_count": 213,
   "id": "921d208c-433f-43c4-89d0-6fb4eb06f56a",
   "metadata": {},
   "outputs": [
    {
     "name": "stdout",
     "output_type": "stream",
     "text": [
      "(10, 1)\n"
     ]
    }
   ],
   "source": [
    "output = forward()\n",
    "print(output.shape)"
   ]
  },
  {
   "cell_type": "code",
   "execution_count": null,
   "id": "627a8b1a-e317-484d-bf35-15ae221f8e2f",
   "metadata": {},
   "outputs": [],
   "source": []
  },
  {
   "cell_type": "code",
   "execution_count": 184,
   "id": "33966d48-0144-4fe4-8898-571cda9b438d",
   "metadata": {},
   "outputs": [
    {
     "name": "stdout",
     "output_type": "stream",
     "text": [
      "(1, 32, 32) (6, 1, 5, 5) (16, 6, 5, 5) (120, 400) (120, 1) (84, 120) (84, 1) (10, 84) (10, 1)\n"
     ]
    }
   ],
   "source": [
    "input,C1,C2,W1,b1,W2,b2,W3,b3=init_parameters_and_input()\n",
    "print(input.shape, C1.shape, C2.shape, W1.shape, b1.shape, W2.shape, b2.shape, W3.shape, b3.shape)"
   ]
  },
  {
   "cell_type": "code",
   "execution_count": 185,
   "id": "dc9d43ee-e001-498b-a55e-268fc0c8d111",
   "metadata": {},
   "outputs": [
    {
     "name": "stdout",
     "output_type": "stream",
     "text": [
      "(6, 28, 28)\n"
     ]
    }
   ],
   "source": [
    "input = convlayer(input, C1)\n",
    "print(input.shape)"
   ]
  },
  {
   "cell_type": "code",
   "execution_count": 186,
   "id": "0e9fb37b-1261-4daa-928e-6d162313767a",
   "metadata": {},
   "outputs": [
    {
     "name": "stdout",
     "output_type": "stream",
     "text": [
      "(6, 28, 28)\n"
     ]
    }
   ],
   "source": [
    "input = relu(input)\n",
    "print(input.shape)"
   ]
  },
  {
   "cell_type": "code",
   "execution_count": 187,
   "id": "46332a0d-6745-465f-a7e1-a96389a9c1e4",
   "metadata": {},
   "outputs": [
    {
     "name": "stdout",
     "output_type": "stream",
     "text": [
      "(6, 14, 14)\n"
     ]
    }
   ],
   "source": [
    "input = maxpool(input)\n",
    "print(input.shape)"
   ]
  },
  {
   "cell_type": "code",
   "execution_count": 188,
   "id": "7dbfa6eb-b837-44b9-bdc5-edf747e0bac3",
   "metadata": {},
   "outputs": [
    {
     "name": "stdout",
     "output_type": "stream",
     "text": [
      "(16, 10, 10)\n"
     ]
    }
   ],
   "source": [
    "input = convlayer(input, C2)\n",
    "print(input.shape)"
   ]
  },
  {
   "cell_type": "code",
   "execution_count": 189,
   "id": "78ea44b1-3be2-45dd-b312-550a1be77d47",
   "metadata": {},
   "outputs": [
    {
     "name": "stdout",
     "output_type": "stream",
     "text": [
      "(16, 10, 10)\n"
     ]
    }
   ],
   "source": [
    "input = relu(input)\n",
    "print(input.shape)"
   ]
  },
  {
   "cell_type": "code",
   "execution_count": 190,
   "id": "4f661104-bc99-4d6b-aae3-69350376a7b6",
   "metadata": {},
   "outputs": [
    {
     "name": "stdout",
     "output_type": "stream",
     "text": [
      "(16, 5, 5)\n"
     ]
    }
   ],
   "source": [
    "input = maxpool(input)\n",
    "print(input.shape)"
   ]
  },
  {
   "cell_type": "code",
   "execution_count": 191,
   "id": "3b29fd9f-6838-430b-b001-dc28be26f4a9",
   "metadata": {},
   "outputs": [
    {
     "name": "stdout",
     "output_type": "stream",
     "text": [
      "(400, 1)\n"
     ]
    }
   ],
   "source": [
    "input = to_vector(input)\n",
    "print(input.shape)"
   ]
  },
  {
   "cell_type": "code",
   "execution_count": 192,
   "id": "7b18c3b0-ec9e-4bfe-80f6-2aed46d651c9",
   "metadata": {},
   "outputs": [
    {
     "name": "stdout",
     "output_type": "stream",
     "text": [
      "(120, 1)\n"
     ]
    }
   ],
   "source": [
    "input = fully_connected_layer(input, W1, b1)\n",
    "print(input.shape)"
   ]
  },
  {
   "cell_type": "code",
   "execution_count": 196,
   "id": "4734ad15-bcdf-45c6-8510-d02ecc69b4ba",
   "metadata": {},
   "outputs": [
    {
     "name": "stdout",
     "output_type": "stream",
     "text": [
      "(120, 1)\n"
     ]
    }
   ],
   "source": [
    "input = relu(input)\n",
    "print(input.shape)"
   ]
  },
  {
   "cell_type": "code",
   "execution_count": 197,
   "id": "e8b47691-ced1-4713-a2c1-01c0eff857cd",
   "metadata": {},
   "outputs": [
    {
     "name": "stdout",
     "output_type": "stream",
     "text": [
      "(84, 1)\n"
     ]
    }
   ],
   "source": [
    "input = fully_connected_layer(input, W2, b2)\n",
    "print(input.shape)"
   ]
  },
  {
   "cell_type": "code",
   "execution_count": 200,
   "id": "79fe35b3-914e-49a9-a0b8-29d3a01b736d",
   "metadata": {},
   "outputs": [
    {
     "name": "stdout",
     "output_type": "stream",
     "text": [
      "(84, 1)\n"
     ]
    }
   ],
   "source": [
    "input = relu(input)\n",
    "print(input.shape)"
   ]
  },
  {
   "cell_type": "code",
   "execution_count": 201,
   "id": "433d47ae-1f0e-4423-9ae2-f45890281850",
   "metadata": {},
   "outputs": [
    {
     "name": "stdout",
     "output_type": "stream",
     "text": [
      "(10, 1)\n"
     ]
    }
   ],
   "source": [
    "input = fully_connected_layer(input, W3, b3)\n",
    "print(input.shape)"
   ]
  },
  {
   "cell_type": "code",
   "execution_count": 202,
   "id": "0d9ce56b-fcc7-4698-b331-28fc7e1401ef",
   "metadata": {},
   "outputs": [
    {
     "name": "stdout",
     "output_type": "stream",
     "text": [
      "(10, 1)\n"
     ]
    }
   ],
   "source": [
    "input = relu(input)\n",
    "print(input.shape)"
   ]
  },
  {
   "cell_type": "code",
   "execution_count": null,
   "id": "f88e6a49-0765-4488-b1b1-7fd670f8c0ec",
   "metadata": {},
   "outputs": [],
   "source": []
  },
  {
   "cell_type": "code",
   "execution_count": null,
   "id": "8e77b653-b40f-4e3b-87fd-4b8cee2be2cf",
   "metadata": {},
   "outputs": [],
   "source": []
  }
 ],
 "metadata": {
  "kernelspec": {
   "display_name": "Python 3 (ipykernel)",
   "language": "python",
   "name": "python3"
  },
  "language_info": {
   "codemirror_mode": {
    "name": "ipython",
    "version": 3
   },
   "file_extension": ".py",
   "mimetype": "text/x-python",
   "name": "python",
   "nbconvert_exporter": "python",
   "pygments_lexer": "ipython3",
   "version": "3.10.13"
  }
 },
 "nbformat": 4,
 "nbformat_minor": 5
}
